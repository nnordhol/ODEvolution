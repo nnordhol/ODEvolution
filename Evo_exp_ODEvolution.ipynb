{
 "cells": [
  {
   "cell_type": "code",
   "execution_count": 1,
   "metadata": {},
   "outputs": [],
   "source": [
    "import matplotlib.pyplot as plt\n",
    "import numpy as np\n",
    "from ODEvolution import *\n",
    "from random import choice"
   ]
  },
  {
   "cell_type": "markdown",
   "metadata": {},
   "source": [
    "## Basic usage of ODEvolution package"
   ]
  },
  {
   "cell_type": "markdown",
   "metadata": {},
   "source": [
    "Generate wild type genotype and a mutant genotype with mumax and survival fraction similar to S1 from the paper. The mutant starts with 1 cell (n0=0.1 cfu/ml)"
   ]
  },
  {
   "cell_type": "code",
   "execution_count": 106,
   "metadata": {},
   "outputs": [],
   "source": [
    "gs = [Genotype(gid='WT'), Genotype(gid='S1',mumax = 0.9, survival = 0.14, n0=0.1)]"
   ]
  },
  {
   "cell_type": "markdown",
   "metadata": {},
   "source": [
    "Attributes that can be set for each genotype:"
   ]
  },
  {
   "cell_type": "code",
   "execution_count": 107,
   "metadata": {},
   "outputs": [
    {
     "data": {
      "text/plain": [
       "{'gid': 'WT',\n",
       " 'mumax': 1.11,\n",
       " 'e': 5e-09,\n",
       " 'km': 0.25,\n",
       " 'n': array([[10000]]),\n",
       " 'mutations': array([], shape=(0, 1), dtype=float64),\n",
       " 'survival': 0.0004,\n",
       " 'survivors': array([], shape=(0, 1), dtype=float64),\n",
       " 'ts': array([], shape=(0, 1), dtype=float64),\n",
       " 'mr': 2e-10,\n",
       " 'mutation_times': array([], shape=(0, 1), dtype=float64),\n",
       " 'extinct': False,\n",
       " 'emerged': 0,\n",
       " 'stepdy': array([], shape=(0, 1), dtype=float64),\n",
       " 'ic50': 1,\n",
       " 'kappa': 1}"
      ]
     },
     "execution_count": 107,
     "metadata": {},
     "output_type": "execute_result"
    }
   ],
   "source": [
    "gs[0].__dict__"
   ]
  },
  {
   "cell_type": "code",
   "execution_count": 108,
   "metadata": {},
   "outputs": [],
   "source": [
    "# Initialize experiment with standard parameters:\n",
    "exp = Experiment(gs)"
   ]
  },
  {
   "cell_type": "markdown",
   "metadata": {},
   "source": [
    "Attributes that can be set in experiments:"
   ]
  },
  {
   "cell_type": "code",
   "execution_count": 109,
   "metadata": {},
   "outputs": [
    {
     "data": {
      "text/plain": [
       "{'genotypes': [<ODEvolution.Genotype at 0x1b13168e250>,\n",
       "  <ODEvolution.Genotype at 0x1b13168e0d0>],\n",
       " 'cycles': 0,\n",
       " 'volume': 10,\n",
       " 'sample_volume': 0.1,\n",
       " 'dilution': 100.0,\n",
       " 'predilution': 4,\n",
       " 'gluc_start': 20,\n",
       " 'gluc': array([20]),\n",
       " 'antibiotic': 0,\n",
       " 't_span': [0, 24],\n",
       " 'ts': array([], shape=(0, 1), dtype=float64),\n",
       " 'sols': array([], shape=(0, 3), dtype=float64),\n",
       " 'killing': True,\n",
       " 'survivors': array([], shape=(0, 2), dtype=float64),\n",
       " 'fractions': array([], shape=(0, 2), dtype=float64),\n",
       " 'total': array([], shape=(0, 2), dtype=float64),\n",
       " 'poisson': True}"
      ]
     },
     "execution_count": 109,
     "metadata": {},
     "output_type": "execute_result"
    }
   ],
   "source": [
    "exp.__dict__"
   ]
  },
  {
   "cell_type": "markdown",
   "metadata": {},
   "source": [
    "Get info about genotypes from exp:"
   ]
  },
  {
   "cell_type": "code",
   "execution_count": 97,
   "metadata": {},
   "outputs": [
    {
     "data": {
      "text/plain": [
       "array([1.11, 0.9 ])"
      ]
     },
     "execution_count": 97,
     "metadata": {},
     "output_type": "execute_result"
    }
   ],
   "source": [
    "exp.from_genos('mumax')"
   ]
  },
  {
   "cell_type": "markdown",
   "metadata": {},
   "source": [
    "Survival fraction:"
   ]
  },
  {
   "cell_type": "code",
   "execution_count": 98,
   "metadata": {},
   "outputs": [
    {
     "data": {
      "text/plain": [
       "array([0.0004, 0.14  ])"
      ]
     },
     "execution_count": 98,
     "metadata": {},
     "output_type": "execute_result"
    }
   ],
   "source": [
    "exp.from_genos('survival')"
   ]
  },
  {
   "cell_type": "markdown",
   "metadata": {},
   "source": [
    "Conduct a basic competition experiment with periodic killing, for 15 cycles:"
   ]
  },
  {
   "cell_type": "code",
   "execution_count": 99,
   "metadata": {},
   "outputs": [],
   "source": [
    "exp.conduct_steps(cycles=15)"
   ]
  },
  {
   "cell_type": "markdown",
   "metadata": {},
   "source": [
    "Plot the results:"
   ]
  },
  {
   "cell_type": "code",
   "execution_count": 100,
   "metadata": {},
   "outputs": [
    {
     "data": {
      "text/plain": [
       "<matplotlib.legend.Legend at 0x1b1314e3490>"
      ]
     },
     "execution_count": 100,
     "metadata": {},
     "output_type": "execute_result"
    },
    {
     "data": {
      "image/png": "[encoded data removed]",
      "text/plain": [
       "<Figure size 432x288 with 1 Axes>"
      ]
     },
     "metadata": {
      "needs_background": "light"
     },
     "output_type": "display_data"
    }
   ],
   "source": [
    "plt.figure()\n",
    "[plt.plot(g.ts, g.n[:-1], label=g.gid) for g in exp.genotypes]\n",
    "plt.yscale('log')\n",
    "plt.xlabel('Hours')\n",
    "plt.ylabel('CFU/ml')\n",
    "plt.legend()"
   ]
  },
  {
   "cell_type": "markdown",
   "metadata": {},
   "source": [
    "Plot only the survivors after each killing:"
   ]
  },
  {
   "cell_type": "code",
   "execution_count": 101,
   "metadata": {},
   "outputs": [
    {
     "data": {
      "text/plain": [
       "Text(0, 0.5, 'Survivors')"
      ]
     },
     "execution_count": 101,
     "metadata": {},
     "output_type": "execute_result"
    },
    {
     "data": {
      "image/png": "[encoded data removed]",
      "text/plain": [
       "<Figure size 432x288 with 1 Axes>"
      ]
     },
     "metadata": {
      "needs_background": "light"
     },
     "output_type": "display_data"
    }
   ],
   "source": [
    "plt.figure()\n",
    "[plt.plot(range(1,len(g.survivors)+1),g.survivors, label=g.gid) for g in exp.genotypes] \n",
    "plt.yscale('log')\n",
    "plt.xlabel('Days')\n",
    "plt.legend()\n",
    "plt.ylabel('Survivors')"
   ]
  },
  {
   "cell_type": "markdown",
   "metadata": {},
   "source": [
    "Conduct another 15 cycles, this time without killing:"
   ]
  },
  {
   "cell_type": "code",
   "execution_count": 102,
   "metadata": {},
   "outputs": [],
   "source": [
    "exp.killing=False\n",
    "exp.conduct_steps(cycles=15)"
   ]
  },
  {
   "cell_type": "code",
   "execution_count": 103,
   "metadata": {},
   "outputs": [
    {
     "data": {
      "text/plain": [
       "<matplotlib.legend.Legend at 0x1b1316045b0>"
      ]
     },
     "execution_count": 103,
     "metadata": {},
     "output_type": "execute_result"
    },
    {
     "data": {
      "image/png": "[encoded data removed]",
      "text/plain": [
       "<Figure size 432x288 with 1 Axes>"
      ]
     },
     "metadata": {
      "needs_background": "light"
     },
     "output_type": "display_data"
    }
   ],
   "source": [
    "plt.figure()\n",
    "[plt.plot(g.ts, g.n[:-1], label=g.gid) for g in exp.genotypes]\n",
    "plt.yscale('log')\n",
    "plt.xlabel('Hours')\n",
    "plt.ylabel('CFU/ml')\n",
    "plt.legend()"
   ]
  }
 ],
 "metadata": {
  "kernelspec": {
   "display_name": "Python 3",
   "language": "python",
   "name": "python3"
  },
  "language_info": {
   "codemirror_mode": {
    "name": "ipython",
    "version": 3
   },
   "file_extension": ".py",
   "mimetype": "text/x-python",
   "name": "python",
   "nbconvert_exporter": "python",
   "pygments_lexer": "ipython3",
   "version": "3.8.3"
  }
 },
 "nbformat": 4,
 "nbformat_minor": 4
}
